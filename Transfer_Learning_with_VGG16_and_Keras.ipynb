{
  "nbformat": 4,
  "nbformat_minor": 0,
  "metadata": {
    "colab": {
      "provenance": [],
      "gpuType": "T4"
    },
    "kernelspec": {
      "name": "python3",
      "display_name": "Python 3"
    },
    "language_info": {
      "name": "python"
    },
    "accelerator": "GPU",
    "widgets": {
      "application/vnd.jupyter.widget-state+json": {
        "f8f0eab13cbd43b4ae399697632ef23d": {
          "model_module": "@jupyter-widgets/controls",
          "model_name": "HBoxModel",
          "model_module_version": "1.5.0",
          "state": {
            "_dom_classes": [],
            "_model_module": "@jupyter-widgets/controls",
            "_model_module_version": "1.5.0",
            "_model_name": "HBoxModel",
            "_view_count": null,
            "_view_module": "@jupyter-widgets/controls",
            "_view_module_version": "1.5.0",
            "_view_name": "HBoxView",
            "box_style": "",
            "children": [
              "IPY_MODEL_64d679d4b19f46be868ed4d5983c8c1a",
              "IPY_MODEL_9c2d8ffb3312440ab40ccbd78f539363",
              "IPY_MODEL_c0fb5554718f40329a18b328371cac26"
            ],
            "layout": "IPY_MODEL_89511cf946cd4b23be3886ef580ec3c9"
          }
        },
        "64d679d4b19f46be868ed4d5983c8c1a": {
          "model_module": "@jupyter-widgets/controls",
          "model_name": "HTMLModel",
          "model_module_version": "1.5.0",
          "state": {
            "_dom_classes": [],
            "_model_module": "@jupyter-widgets/controls",
            "_model_module_version": "1.5.0",
            "_model_name": "HTMLModel",
            "_view_count": null,
            "_view_module": "@jupyter-widgets/controls",
            "_view_module_version": "1.5.0",
            "_view_name": "HTMLView",
            "description": "",
            "description_tooltip": null,
            "layout": "IPY_MODEL_206290c70322411c9ab8445b641ab23c",
            "placeholder": "​",
            "style": "IPY_MODEL_d25d7d9736fc4224b5c91f858a7ce537",
            "value": "Dl Completed...: 100%"
          }
        },
        "9c2d8ffb3312440ab40ccbd78f539363": {
          "model_module": "@jupyter-widgets/controls",
          "model_name": "FloatProgressModel",
          "model_module_version": "1.5.0",
          "state": {
            "_dom_classes": [],
            "_model_module": "@jupyter-widgets/controls",
            "_model_module_version": "1.5.0",
            "_model_name": "FloatProgressModel",
            "_view_count": null,
            "_view_module": "@jupyter-widgets/controls",
            "_view_module_version": "1.5.0",
            "_view_name": "ProgressView",
            "bar_style": "success",
            "description": "",
            "description_tooltip": null,
            "layout": "IPY_MODEL_c7d36f72c7ba443fbbeb893c3486d30d",
            "max": 5,
            "min": 0,
            "orientation": "horizontal",
            "style": "IPY_MODEL_8d7ff263a8cc4f4c9c7dee4778e9b214",
            "value": 5
          }
        },
        "c0fb5554718f40329a18b328371cac26": {
          "model_module": "@jupyter-widgets/controls",
          "model_name": "HTMLModel",
          "model_module_version": "1.5.0",
          "state": {
            "_dom_classes": [],
            "_model_module": "@jupyter-widgets/controls",
            "_model_module_version": "1.5.0",
            "_model_name": "HTMLModel",
            "_view_count": null,
            "_view_module": "@jupyter-widgets/controls",
            "_view_module_version": "1.5.0",
            "_view_name": "HTMLView",
            "description": "",
            "description_tooltip": null,
            "layout": "IPY_MODEL_4da5536e32474e759005512400e77241",
            "placeholder": "​",
            "style": "IPY_MODEL_4c659597e23347d18e7f7b6a7879a2ef",
            "value": " 5/5 [00:16&lt;00:00,  3.22s/ file]"
          }
        },
        "89511cf946cd4b23be3886ef580ec3c9": {
          "model_module": "@jupyter-widgets/base",
          "model_name": "LayoutModel",
          "model_module_version": "1.2.0",
          "state": {
            "_model_module": "@jupyter-widgets/base",
            "_model_module_version": "1.2.0",
            "_model_name": "LayoutModel",
            "_view_count": null,
            "_view_module": "@jupyter-widgets/base",
            "_view_module_version": "1.2.0",
            "_view_name": "LayoutView",
            "align_content": null,
            "align_items": null,
            "align_self": null,
            "border": null,
            "bottom": null,
            "display": null,
            "flex": null,
            "flex_flow": null,
            "grid_area": null,
            "grid_auto_columns": null,
            "grid_auto_flow": null,
            "grid_auto_rows": null,
            "grid_column": null,
            "grid_gap": null,
            "grid_row": null,
            "grid_template_areas": null,
            "grid_template_columns": null,
            "grid_template_rows": null,
            "height": null,
            "justify_content": null,
            "justify_items": null,
            "left": null,
            "margin": null,
            "max_height": null,
            "max_width": null,
            "min_height": null,
            "min_width": null,
            "object_fit": null,
            "object_position": null,
            "order": null,
            "overflow": null,
            "overflow_x": null,
            "overflow_y": null,
            "padding": null,
            "right": null,
            "top": null,
            "visibility": null,
            "width": null
          }
        },
        "206290c70322411c9ab8445b641ab23c": {
          "model_module": "@jupyter-widgets/base",
          "model_name": "LayoutModel",
          "model_module_version": "1.2.0",
          "state": {
            "_model_module": "@jupyter-widgets/base",
            "_model_module_version": "1.2.0",
            "_model_name": "LayoutModel",
            "_view_count": null,
            "_view_module": "@jupyter-widgets/base",
            "_view_module_version": "1.2.0",
            "_view_name": "LayoutView",
            "align_content": null,
            "align_items": null,
            "align_self": null,
            "border": null,
            "bottom": null,
            "display": null,
            "flex": null,
            "flex_flow": null,
            "grid_area": null,
            "grid_auto_columns": null,
            "grid_auto_flow": null,
            "grid_auto_rows": null,
            "grid_column": null,
            "grid_gap": null,
            "grid_row": null,
            "grid_template_areas": null,
            "grid_template_columns": null,
            "grid_template_rows": null,
            "height": null,
            "justify_content": null,
            "justify_items": null,
            "left": null,
            "margin": null,
            "max_height": null,
            "max_width": null,
            "min_height": null,
            "min_width": null,
            "object_fit": null,
            "object_position": null,
            "order": null,
            "overflow": null,
            "overflow_x": null,
            "overflow_y": null,
            "padding": null,
            "right": null,
            "top": null,
            "visibility": null,
            "width": null
          }
        },
        "d25d7d9736fc4224b5c91f858a7ce537": {
          "model_module": "@jupyter-widgets/controls",
          "model_name": "DescriptionStyleModel",
          "model_module_version": "1.5.0",
          "state": {
            "_model_module": "@jupyter-widgets/controls",
            "_model_module_version": "1.5.0",
            "_model_name": "DescriptionStyleModel",
            "_view_count": null,
            "_view_module": "@jupyter-widgets/base",
            "_view_module_version": "1.2.0",
            "_view_name": "StyleView",
            "description_width": ""
          }
        },
        "c7d36f72c7ba443fbbeb893c3486d30d": {
          "model_module": "@jupyter-widgets/base",
          "model_name": "LayoutModel",
          "model_module_version": "1.2.0",
          "state": {
            "_model_module": "@jupyter-widgets/base",
            "_model_module_version": "1.2.0",
            "_model_name": "LayoutModel",
            "_view_count": null,
            "_view_module": "@jupyter-widgets/base",
            "_view_module_version": "1.2.0",
            "_view_name": "LayoutView",
            "align_content": null,
            "align_items": null,
            "align_self": null,
            "border": null,
            "bottom": null,
            "display": null,
            "flex": null,
            "flex_flow": null,
            "grid_area": null,
            "grid_auto_columns": null,
            "grid_auto_flow": null,
            "grid_auto_rows": null,
            "grid_column": null,
            "grid_gap": null,
            "grid_row": null,
            "grid_template_areas": null,
            "grid_template_columns": null,
            "grid_template_rows": null,
            "height": null,
            "justify_content": null,
            "justify_items": null,
            "left": null,
            "margin": null,
            "max_height": null,
            "max_width": null,
            "min_height": null,
            "min_width": null,
            "object_fit": null,
            "object_position": null,
            "order": null,
            "overflow": null,
            "overflow_x": null,
            "overflow_y": null,
            "padding": null,
            "right": null,
            "top": null,
            "visibility": null,
            "width": null
          }
        },
        "8d7ff263a8cc4f4c9c7dee4778e9b214": {
          "model_module": "@jupyter-widgets/controls",
          "model_name": "ProgressStyleModel",
          "model_module_version": "1.5.0",
          "state": {
            "_model_module": "@jupyter-widgets/controls",
            "_model_module_version": "1.5.0",
            "_model_name": "ProgressStyleModel",
            "_view_count": null,
            "_view_module": "@jupyter-widgets/base",
            "_view_module_version": "1.2.0",
            "_view_name": "StyleView",
            "bar_color": null,
            "description_width": ""
          }
        },
        "4da5536e32474e759005512400e77241": {
          "model_module": "@jupyter-widgets/base",
          "model_name": "LayoutModel",
          "model_module_version": "1.2.0",
          "state": {
            "_model_module": "@jupyter-widgets/base",
            "_model_module_version": "1.2.0",
            "_model_name": "LayoutModel",
            "_view_count": null,
            "_view_module": "@jupyter-widgets/base",
            "_view_module_version": "1.2.0",
            "_view_name": "LayoutView",
            "align_content": null,
            "align_items": null,
            "align_self": null,
            "border": null,
            "bottom": null,
            "display": null,
            "flex": null,
            "flex_flow": null,
            "grid_area": null,
            "grid_auto_columns": null,
            "grid_auto_flow": null,
            "grid_auto_rows": null,
            "grid_column": null,
            "grid_gap": null,
            "grid_row": null,
            "grid_template_areas": null,
            "grid_template_columns": null,
            "grid_template_rows": null,
            "height": null,
            "justify_content": null,
            "justify_items": null,
            "left": null,
            "margin": null,
            "max_height": null,
            "max_width": null,
            "min_height": null,
            "min_width": null,
            "object_fit": null,
            "object_position": null,
            "order": null,
            "overflow": null,
            "overflow_x": null,
            "overflow_y": null,
            "padding": null,
            "right": null,
            "top": null,
            "visibility": null,
            "width": null
          }
        },
        "4c659597e23347d18e7f7b6a7879a2ef": {
          "model_module": "@jupyter-widgets/controls",
          "model_name": "DescriptionStyleModel",
          "model_module_version": "1.5.0",
          "state": {
            "_model_module": "@jupyter-widgets/controls",
            "_model_module_version": "1.5.0",
            "_model_name": "DescriptionStyleModel",
            "_view_count": null,
            "_view_module": "@jupyter-widgets/base",
            "_view_module_version": "1.2.0",
            "_view_name": "StyleView",
            "description_width": ""
          }
        }
      }
    }
  },
  "cells": [
    {
      "cell_type": "markdown",
      "source": [
        "# Transfer Learning with VGG16 and Keras\n",
        "https://towardsdatascience.com/transfer-learning-with-vgg16-and-keras-50ea161580b4"
      ],
      "metadata": {
        "id": "nKsCNc9P6bAa"
      }
    },
    {
      "cell_type": "code",
      "source": [
        "import tensorflow as tf\n",
        "from tensorflow import keras\n",
        "\n",
        "import tensorflow_datasets as tfds\n",
        "from tensorflow.keras.utils import to_categorical"
      ],
      "metadata": {
        "id": "GeXRgep_6d-7"
      },
      "execution_count": 1,
      "outputs": []
    },
    {
      "cell_type": "code",
      "source": [
        "# Loading images and labels\n",
        "(train_ds, train_labels), (test_ds, test_labels) = tfds.load(\n",
        "    \"tf_flowers\",\n",
        "    split=[\"train[:70%]\", \"train[:30%]\"], # Train test split\n",
        "    batch_size=-1,\n",
        "    as_supervised=True, # Include labels\n",
        ")"
      ],
      "metadata": {
        "colab": {
          "base_uri": "https://localhost:8080/",
          "height": 84,
          "referenced_widgets": [
            "f8f0eab13cbd43b4ae399697632ef23d",
            "64d679d4b19f46be868ed4d5983c8c1a",
            "9c2d8ffb3312440ab40ccbd78f539363",
            "c0fb5554718f40329a18b328371cac26",
            "89511cf946cd4b23be3886ef580ec3c9",
            "206290c70322411c9ab8445b641ab23c",
            "d25d7d9736fc4224b5c91f858a7ce537",
            "c7d36f72c7ba443fbbeb893c3486d30d",
            "8d7ff263a8cc4f4c9c7dee4778e9b214",
            "4da5536e32474e759005512400e77241",
            "4c659597e23347d18e7f7b6a7879a2ef"
          ]
        },
        "id": "8FLNPrhI7Oft",
        "outputId": "f54d5368-b7ac-4e54-ffdc-caa779048805"
      },
      "execution_count": 2,
      "outputs": [
        {
          "output_type": "stream",
          "name": "stdout",
          "text": [
            "Downloading and preparing dataset 218.21 MiB (download: 218.21 MiB, generated: 221.83 MiB, total: 440.05 MiB) to /root/tensorflow_datasets/tf_flowers/3.0.1...\n"
          ]
        },
        {
          "output_type": "display_data",
          "data": {
            "text/plain": [
              "Dl Completed...:   0%|          | 0/5 [00:00<?, ? file/s]"
            ],
            "application/vnd.jupyter.widget-view+json": {
              "version_major": 2,
              "version_minor": 0,
              "model_id": "f8f0eab13cbd43b4ae399697632ef23d"
            }
          },
          "metadata": {}
        },
        {
          "output_type": "stream",
          "name": "stdout",
          "text": [
            "Dataset tf_flowers downloaded and prepared to /root/tensorflow_datasets/tf_flowers/3.0.1. Subsequent calls will reuse this data.\n"
          ]
        }
      ]
    },
    {
      "cell_type": "code",
      "source": [
        "# Resizing images\n",
        "train_ds = tf.image.resize(train_ds, (150, 150))\n",
        "test_ds = tf.image.resize(test_ds, (150, 150))"
      ],
      "metadata": {
        "id": "Coq8Fs9l7ry2"
      },
      "execution_count": 3,
      "outputs": []
    },
    {
      "cell_type": "code",
      "source": [
        "# Transforming labels to correct format\n",
        "train_labels = to_categorical(train_labels, num_classes=5)\n",
        "test_labels = to_categorical(test_labels, num_classes=5)"
      ],
      "metadata": {
        "id": "sphmwwEH767a"
      },
      "execution_count": 4,
      "outputs": []
    },
    {
      "cell_type": "code",
      "source": [
        "from tensorflow.keras.applications.vgg16 import VGG16\n",
        "from tensorflow.keras.applications.vgg16 import preprocess_input\n",
        "\n",
        "# Loading VGG16 model\n",
        "base_model = VGG16(weights=\"imagenet\",\n",
        "                   include_top=False, # remove the classification layer that was trained on ImageNet dataset\n",
        "                   input_shape=train_ds[0].shape)\n",
        "base_model.trainable = False # Not trainable weights"
      ],
      "metadata": {
        "colab": {
          "base_uri": "https://localhost:8080/"
        },
        "id": "FkgTDsae8eX0",
        "outputId": "6b393a94-839c-47e6-b5c3-2eba144ed15c"
      },
      "execution_count": 5,
      "outputs": [
        {
          "output_type": "stream",
          "name": "stdout",
          "text": [
            "Downloading data from https://storage.googleapis.com/tensorflow/keras-applications/vgg16/vgg16_weights_tf_dim_ordering_tf_kernels_notop.h5\n",
            "58889256/58889256 [==============================] - 4s 0us/step\n"
          ]
        }
      ]
    },
    {
      "cell_type": "code",
      "source": [
        "# Preprocessing input (normalize the input data)\n",
        "train_ds = preprocess_input(train_ds)\n",
        "test_ds = preprocess_input(test_ds)"
      ],
      "metadata": {
        "id": "yFdRrhPt88fC"
      },
      "execution_count": 6,
      "outputs": []
    },
    {
      "cell_type": "code",
      "source": [
        "base_model.summary()"
      ],
      "metadata": {
        "colab": {
          "base_uri": "https://localhost:8080/"
        },
        "id": "HH932TC19GZs",
        "outputId": "6dd7b4f4-ac52-43eb-ac07-338f77b55f2b"
      },
      "execution_count": 7,
      "outputs": [
        {
          "output_type": "stream",
          "name": "stdout",
          "text": [
            "Model: \"vgg16\"\n",
            "_________________________________________________________________\n",
            " Layer (type)                Output Shape              Param #   \n",
            "=================================================================\n",
            " input_1 (InputLayer)        [(None, 150, 150, 3)]     0         \n",
            "                                                                 \n",
            " block1_conv1 (Conv2D)       (None, 150, 150, 64)      1792      \n",
            "                                                                 \n",
            " block1_conv2 (Conv2D)       (None, 150, 150, 64)      36928     \n",
            "                                                                 \n",
            " block1_pool (MaxPooling2D)  (None, 75, 75, 64)        0         \n",
            "                                                                 \n",
            " block2_conv1 (Conv2D)       (None, 75, 75, 128)       73856     \n",
            "                                                                 \n",
            " block2_conv2 (Conv2D)       (None, 75, 75, 128)       147584    \n",
            "                                                                 \n",
            " block2_pool (MaxPooling2D)  (None, 37, 37, 128)       0         \n",
            "                                                                 \n",
            " block3_conv1 (Conv2D)       (None, 37, 37, 256)       295168    \n",
            "                                                                 \n",
            " block3_conv2 (Conv2D)       (None, 37, 37, 256)       590080    \n",
            "                                                                 \n",
            " block3_conv3 (Conv2D)       (None, 37, 37, 256)       590080    \n",
            "                                                                 \n",
            " block3_pool (MaxPooling2D)  (None, 18, 18, 256)       0         \n",
            "                                                                 \n",
            " block4_conv1 (Conv2D)       (None, 18, 18, 512)       1180160   \n",
            "                                                                 \n",
            " block4_conv2 (Conv2D)       (None, 18, 18, 512)       2359808   \n",
            "                                                                 \n",
            " block4_conv3 (Conv2D)       (None, 18, 18, 512)       2359808   \n",
            "                                                                 \n",
            " block4_pool (MaxPooling2D)  (None, 9, 9, 512)         0         \n",
            "                                                                 \n",
            " block5_conv1 (Conv2D)       (None, 9, 9, 512)         2359808   \n",
            "                                                                 \n",
            " block5_conv2 (Conv2D)       (None, 9, 9, 512)         2359808   \n",
            "                                                                 \n",
            " block5_conv3 (Conv2D)       (None, 9, 9, 512)         2359808   \n",
            "                                                                 \n",
            " block5_pool (MaxPooling2D)  (None, 4, 4, 512)         0         \n",
            "                                                                 \n",
            "=================================================================\n",
            "Total params: 14714688 (56.13 MB)\n",
            "Trainable params: 0 (0.00 Byte)\n",
            "Non-trainable params: 14714688 (56.13 MB)\n",
            "_________________________________________________________________\n"
          ]
        }
      ]
    },
    {
      "cell_type": "code",
      "source": [
        "from tensorflow.keras import layers, models\n",
        "\n",
        "flatten_layer = layers.Flatten()\n",
        "dense_layer_1 = layers.Dense(50, activation='relu')\n",
        "dense_layer_2 = layers.Dense(20, activation='relu')\n",
        "prediction_layer = layers.Dense(5, activation='softmax')"
      ],
      "metadata": {
        "id": "wVMpMSGu9adj"
      },
      "execution_count": 8,
      "outputs": []
    },
    {
      "cell_type": "code",
      "source": [
        "model = models.Sequential([\n",
        "    base_model,\n",
        "    flatten_layer,\n",
        "    dense_layer_1,\n",
        "    dense_layer_2,\n",
        "    prediction_layer\n",
        "])"
      ],
      "metadata": {
        "id": "E4oZlziT93gX"
      },
      "execution_count": 9,
      "outputs": []
    },
    {
      "cell_type": "code",
      "source": [
        "from tensorflow.keras.callbacks import EarlyStopping\n",
        "\n",
        "model.compile(\n",
        "    optimizer='adam',\n",
        "    loss='categorical_crossentropy',\n",
        "    metrics=['accuracy']\n",
        ")"
      ],
      "metadata": {
        "id": "eQbOmS7L-CE0"
      },
      "execution_count": 10,
      "outputs": []
    },
    {
      "cell_type": "code",
      "source": [
        "es = EarlyStopping(monitor='val_accuracy', mode='max', patience=5, restore_best_weights=True)\n",
        "\n",
        "\n",
        "model.fit(train_ds, train_labels, epochs=50, validation_split=0.20, batch_size=32, callbacks=[es])"
      ],
      "metadata": {
        "colab": {
          "base_uri": "https://localhost:8080/"
        },
        "id": "YBrvTwPq-RD3",
        "outputId": "c72ab886-888e-4731-cd8f-10ad1c5f1cd2"
      },
      "execution_count": 11,
      "outputs": [
        {
          "output_type": "stream",
          "name": "stdout",
          "text": [
            "Epoch 1/50\n",
            "65/65 [==============================] - 18s 109ms/step - loss: 1.7668 - accuracy: 0.4944 - val_loss: 1.1364 - val_accuracy: 0.6128\n",
            "Epoch 2/50\n",
            "65/65 [==============================] - 5s 84ms/step - loss: 0.7656 - accuracy: 0.7465 - val_loss: 1.0143 - val_accuracy: 0.6342\n",
            "Epoch 3/50\n",
            "65/65 [==============================] - 5s 80ms/step - loss: 0.5034 - accuracy: 0.8200 - val_loss: 1.0022 - val_accuracy: 0.6556\n",
            "Epoch 4/50\n",
            "65/65 [==============================] - 5s 85ms/step - loss: 0.3757 - accuracy: 0.8710 - val_loss: 1.0076 - val_accuracy: 0.6654\n",
            "Epoch 5/50\n",
            "65/65 [==============================] - 5s 84ms/step - loss: 0.2545 - accuracy: 0.9129 - val_loss: 0.9985 - val_accuracy: 0.6926\n",
            "Epoch 6/50\n",
            "65/65 [==============================] - 5s 80ms/step - loss: 0.1877 - accuracy: 0.9426 - val_loss: 1.0383 - val_accuracy: 0.6848\n",
            "Epoch 7/50\n",
            "65/65 [==============================] - 5s 81ms/step - loss: 0.1350 - accuracy: 0.9645 - val_loss: 1.1475 - val_accuracy: 0.6790\n",
            "Epoch 8/50\n",
            "65/65 [==============================] - 5s 81ms/step - loss: 0.1029 - accuracy: 0.9708 - val_loss: 1.1063 - val_accuracy: 0.6965\n",
            "Epoch 9/50\n",
            "65/65 [==============================] - 5s 81ms/step - loss: 0.0715 - accuracy: 0.9820 - val_loss: 1.2712 - val_accuracy: 0.6829\n",
            "Epoch 10/50\n",
            "65/65 [==============================] - 5s 84ms/step - loss: 0.0475 - accuracy: 0.9927 - val_loss: 1.2572 - val_accuracy: 0.6751\n",
            "Epoch 11/50\n",
            "65/65 [==============================] - 6s 85ms/step - loss: 0.0342 - accuracy: 0.9956 - val_loss: 1.2589 - val_accuracy: 0.7121\n",
            "Epoch 12/50\n",
            "65/65 [==============================] - 5s 80ms/step - loss: 0.0257 - accuracy: 0.9966 - val_loss: 1.3656 - val_accuracy: 0.6926\n",
            "Epoch 13/50\n",
            "65/65 [==============================] - 6s 86ms/step - loss: 0.0178 - accuracy: 0.9985 - val_loss: 1.3724 - val_accuracy: 0.6926\n",
            "Epoch 14/50\n",
            "65/65 [==============================] - 5s 85ms/step - loss: 0.0145 - accuracy: 0.9985 - val_loss: 1.4097 - val_accuracy: 0.6984\n",
            "Epoch 15/50\n",
            "65/65 [==============================] - 6s 87ms/step - loss: 0.0109 - accuracy: 0.9985 - val_loss: 1.4402 - val_accuracy: 0.6926\n",
            "Epoch 16/50\n",
            "65/65 [==============================] - 6s 86ms/step - loss: 0.0088 - accuracy: 0.9995 - val_loss: 1.4924 - val_accuracy: 0.6907\n"
          ]
        },
        {
          "output_type": "execute_result",
          "data": {
            "text/plain": [
              "<keras.src.callbacks.History at 0x7ef2543dc160>"
            ]
          },
          "metadata": {},
          "execution_count": 11
        }
      ]
    },
    {
      "cell_type": "code",
      "source": [],
      "metadata": {
        "id": "2bhrSvhP-aaH"
      },
      "execution_count": 11,
      "outputs": []
    },
    {
      "cell_type": "markdown",
      "source": [
        "## Extra: comparing to hand-made model"
      ],
      "metadata": {
        "id": "dBA-YH2Q_CFR"
      }
    },
    {
      "cell_type": "code",
      "source": [
        "from tensorflow.keras import Sequential, layers\n",
        "from tensorflow.keras.callbacks import EarlyStopping\n",
        "from tensorflow.keras.layers.experimental.preprocessing import Rescaling"
      ],
      "metadata": {
        "id": "SC8f4jzr_ES1"
      },
      "execution_count": 12,
      "outputs": []
    },
    {
      "cell_type": "code",
      "source": [
        "hand_made_model = Sequential()\n",
        "hand_made_model.add(Rescaling(1./255, input_shape=(150,150,3)))\n",
        "\n",
        "hand_made_model.add(layers.Conv2D(16, kernel_size=10, activation='relu'))\n",
        "hand_made_model.add(layers.MaxPooling2D(3))\n",
        "\n",
        "hand_made_model.add(layers.Conv2D(32, kernel_size=8, activation=\"relu\"))\n",
        "hand_made_model.add(layers.MaxPooling2D(2))\n",
        "\n",
        "hand_made_model.add(layers.Conv2D(32, kernel_size=6, activation=\"relu\"))\n",
        "hand_made_model.add(layers.MaxPooling2D(2))\n",
        "\n",
        "hand_made_model.add(layers.Flatten())\n",
        "hand_made_model.add(layers.Dense(50, activation='relu'))\n",
        "hand_made_model.add(layers.Dense(20, activation='relu'))\n",
        "hand_made_model.add(layers.Dense(5, activation='softmax'))"
      ],
      "metadata": {
        "id": "TpKiAQwJ_RFG"
      },
      "execution_count": 13,
      "outputs": []
    },
    {
      "cell_type": "code",
      "source": [
        "hand_made_model.compile(\n",
        "    optimizer='adam',\n",
        "    loss='categorical_crossentropy',\n",
        "    metrics=['accuracy']\n",
        ")"
      ],
      "metadata": {
        "id": "Gi_JXL3-AJar"
      },
      "execution_count": 14,
      "outputs": []
    },
    {
      "cell_type": "code",
      "source": [
        "es = EarlyStopping(monitor='val_accuracy', mode='max', patience=5, restore_best_weights=True)\n",
        "\n",
        "hand_made_model.fit(train_ds, train_labels, epochs=50, validation_split=0.2, batch_size=32, callbacks=[es])"
      ],
      "metadata": {
        "colab": {
          "base_uri": "https://localhost:8080/"
        },
        "id": "F8BcWlqEAWZU",
        "outputId": "0d1ea701-b0a1-44f4-c7ca-3a914ad57482"
      },
      "execution_count": 16,
      "outputs": [
        {
          "output_type": "stream",
          "name": "stdout",
          "text": [
            "Epoch 1/50\n",
            "65/65 [==============================] - 8s 41ms/step - loss: 1.4916 - accuracy: 0.3144 - val_loss: 1.3609 - val_accuracy: 0.3774\n",
            "Epoch 2/50\n",
            "65/65 [==============================] - 2s 28ms/step - loss: 1.3086 - accuracy: 0.4268 - val_loss: 1.2266 - val_accuracy: 0.4708\n",
            "Epoch 3/50\n",
            "65/65 [==============================] - 2s 30ms/step - loss: 1.2357 - accuracy: 0.4710 - val_loss: 1.3009 - val_accuracy: 0.4533\n",
            "Epoch 4/50\n",
            "65/65 [==============================] - 1s 22ms/step - loss: 1.1737 - accuracy: 0.4988 - val_loss: 1.1945 - val_accuracy: 0.4533\n",
            "Epoch 5/50\n",
            "65/65 [==============================] - 1s 19ms/step - loss: 1.0892 - accuracy: 0.5436 - val_loss: 1.1360 - val_accuracy: 0.5292\n",
            "Epoch 6/50\n",
            "65/65 [==============================] - 1s 19ms/step - loss: 1.0268 - accuracy: 0.5562 - val_loss: 1.1439 - val_accuracy: 0.5350\n",
            "Epoch 7/50\n",
            "65/65 [==============================] - 1s 19ms/step - loss: 0.9627 - accuracy: 0.5971 - val_loss: 1.1021 - val_accuracy: 0.5370\n",
            "Epoch 8/50\n",
            "65/65 [==============================] - 1s 19ms/step - loss: 0.8906 - accuracy: 0.6394 - val_loss: 1.2923 - val_accuracy: 0.4981\n",
            "Epoch 9/50\n",
            "65/65 [==============================] - 1s 19ms/step - loss: 0.8078 - accuracy: 0.6725 - val_loss: 1.1873 - val_accuracy: 0.5292\n",
            "Epoch 10/50\n",
            "65/65 [==============================] - 1s 19ms/step - loss: 0.7239 - accuracy: 0.6988 - val_loss: 1.2634 - val_accuracy: 0.5389\n",
            "Epoch 11/50\n",
            "65/65 [==============================] - 1s 19ms/step - loss: 0.6784 - accuracy: 0.7192 - val_loss: 1.1167 - val_accuracy: 0.5661\n",
            "Epoch 12/50\n",
            "65/65 [==============================] - 1s 19ms/step - loss: 0.6137 - accuracy: 0.7572 - val_loss: 1.1857 - val_accuracy: 0.5603\n",
            "Epoch 13/50\n",
            "65/65 [==============================] - 1s 22ms/step - loss: 0.5317 - accuracy: 0.7981 - val_loss: 1.3108 - val_accuracy: 0.5661\n",
            "Epoch 14/50\n",
            "65/65 [==============================] - 1s 21ms/step - loss: 0.4569 - accuracy: 0.8229 - val_loss: 1.5718 - val_accuracy: 0.5895\n",
            "Epoch 15/50\n",
            "65/65 [==============================] - 1s 19ms/step - loss: 0.4053 - accuracy: 0.8448 - val_loss: 1.6038 - val_accuracy: 0.5486\n",
            "Epoch 16/50\n",
            "65/65 [==============================] - 1s 19ms/step - loss: 0.3137 - accuracy: 0.8900 - val_loss: 1.6837 - val_accuracy: 0.5642\n",
            "Epoch 17/50\n",
            "65/65 [==============================] - 1s 19ms/step - loss: 0.3711 - accuracy: 0.8564 - val_loss: 1.7665 - val_accuracy: 0.5350\n",
            "Epoch 18/50\n",
            "65/65 [==============================] - 1s 21ms/step - loss: 0.2773 - accuracy: 0.9022 - val_loss: 1.9731 - val_accuracy: 0.5136\n",
            "Epoch 19/50\n",
            "65/65 [==============================] - 1s 19ms/step - loss: 0.2058 - accuracy: 0.9207 - val_loss: 2.0533 - val_accuracy: 0.5584\n"
          ]
        },
        {
          "output_type": "execute_result",
          "data": {
            "text/plain": [
              "<keras.src.callbacks.History at 0x7ef240286a40>"
            ]
          },
          "metadata": {},
          "execution_count": 16
        }
      ]
    },
    {
      "cell_type": "code",
      "source": [],
      "metadata": {
        "id": "ZnM6UFEgAra6"
      },
      "execution_count": 16,
      "outputs": []
    }
  ]
}