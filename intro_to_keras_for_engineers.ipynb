{
 "cells": [
  {
   "cell_type": "markdown",
   "id": "a570cfa0-1598-4884-96cf-c32e1b39434d",
   "metadata": {},
   "source": [
    "# Introduction to Keras for Engineers"
   ]
  },
  {
   "cell_type": "markdown",
   "id": "70312fc3-761d-42da-8981-ae606b685415",
   "metadata": {
    "tags": []
   },
   "source": [
    "https://keras.io/getting_started/intro_to_keras_for_engineers/"
   ]
  },
  {
   "cell_type": "code",
   "execution_count": 1,
   "id": "71005bb7-4c2d-4084-bc4f-9311d11fff34",
   "metadata": {
    "tags": []
   },
   "outputs": [],
   "source": [
    "import numpy as np\n",
    "import tensorflow as tf\n",
    "import keras"
   ]
  },
  {
   "cell_type": "markdown",
   "id": "67214c0f-86e0-44bc-8b19-61b9c448b89b",
   "metadata": {},
   "source": [
    "## Data Preprocessing with Keras"
   ]
  },
  {
   "cell_type": "markdown",
   "id": "5ba6e4c1-86bf-4fa6-afce-61a48bcb002f",
   "metadata": {},
   "source": [
    "### Example: turning strings into sequences of integer word indices"
   ]
  },
  {
   "cell_type": "code",
   "execution_count": 2,
   "id": "4bf2100d-0b6c-4b28-aeb7-83df104157f3",
   "metadata": {
    "tags": []
   },
   "outputs": [
    {
     "name": "stdout",
     "output_type": "stream",
     "text": [
      "tf.Tensor(\n",
      "[[4 5 2 9 3]\n",
      " [7 6 2 8 3]], shape=(2, 5), dtype=int64)\n"
     ]
    }
   ],
   "source": [
    "from tensorflow.keras.layers import TextVectorization\n",
    "\n",
    "training_data = np.array([[\"This is the 1st sample.\"], [\"And here's the 2nd sample.\"]])\n",
    "\n",
    "vectorizer = TextVectorization(output_mode=\"int\")\n",
    "\n",
    "vectorizer.adapt(training_data)\n",
    "\n",
    "integer_data = vectorizer(training_data)\n",
    "print(integer_data)"
   ]
  },
  {
   "cell_type": "markdown",
   "id": "5b94c838-394e-4c1f-afac-a3db2b9a57a8",
   "metadata": {
    "tags": []
   },
   "source": [
    "### Example turning strings into sequence of one-hot encoded bigrams"
   ]
  },
  {
   "cell_type": "code",
   "execution_count": 3,
   "id": "435d109b-cba9-474f-bb01-9ab4f69136fa",
   "metadata": {
    "tags": []
   },
   "outputs": [
    {
     "name": "stdout",
     "output_type": "stream",
     "text": [
      "tf.Tensor(\n",
      "[[0. 1. 1. 1. 1. 0. 1. 1. 1. 0. 0. 0. 0. 0. 0. 1. 1.]\n",
      " [0. 1. 1. 0. 0. 1. 0. 0. 0. 1. 1. 1. 1. 1. 1. 0. 0.]], shape=(2, 17), dtype=float32)\n"
     ]
    }
   ],
   "source": [
    "from tensorflow.keras.layers import TextVectorization\n",
    "\n",
    "training_data = np.array([[\"This is the 1st sample.\"], [\"And here's the 2nd sample.\"]])\n",
    "\n",
    "vectorizer = TextVectorization(output_mode=\"binary\", ngrams=2)\n",
    "\n",
    "vectorizer.adapt(training_data)\n",
    "\n",
    "integer_data = vectorizer(training_data)\n",
    "print(integer_data)\n"
   ]
  },
  {
   "cell_type": "markdown",
   "id": "ed9b58b8-2793-4bdc-b52e-04ac04dcb8c2",
   "metadata": {
    "tags": []
   },
   "source": [
    "### Example: normalizing features"
   ]
  },
  {
   "cell_type": "code",
   "execution_count": 4,
   "id": "47e3c16a-96b8-4527-8d03-7f6e4c9b05ef",
   "metadata": {
    "tags": []
   },
   "outputs": [
    {
     "name": "stdout",
     "output_type": "stream",
     "text": [
      "var: 1.0005\n",
      "mean: 0.0000\n"
     ]
    }
   ],
   "source": [
    "from tensorflow.keras.layers import Normalization\n",
    "\n",
    "training_data = np.random.randint(0, 256, size=(64, 200, 200, 3)).astype(\"float32\")\n",
    "\n",
    "normalizer = Normalization(axis=-1)\n",
    "normalizer.adapt(training_data)\n",
    "\n",
    "normalized_data = normalizer(training_data)\n",
    "print(\"var: %.4f\" % np.var(normalized_data))\n",
    "print(\"mean: %.4f\" % np.mean(normalized_data))\n"
   ]
  },
  {
   "cell_type": "markdown",
   "id": "2dd589ba-db10-4581-bbbc-35f9a2377a07",
   "metadata": {},
   "source": [
    "### Example: rescaling & center-cropping images"
   ]
  },
  {
   "cell_type": "code",
   "execution_count": 5,
   "id": "b214ee32-8fd5-4824-9293-fadb93f7d3c6",
   "metadata": {
    "tags": []
   },
   "outputs": [
    {
     "name": "stdout",
     "output_type": "stream",
     "text": [
      "shape: (64, 150, 150, 3)\n",
      "min: 0.0\n",
      "max: 1.0\n"
     ]
    }
   ],
   "source": [
    "from tensorflow.keras.layers import CenterCrop\n",
    "from tensorflow.keras.layers import Rescaling\n",
    "\n",
    "training_data = np.random.randint(0, 256, size=(64, 200, 200, 3)).astype(\"float32\")\n",
    "\n",
    "cropper = CenterCrop(height=150, width=150)\n",
    "scaler = Rescaling(scale=1.0 / 255)\n",
    "\n",
    "output_data = scaler(cropper(training_data))\n",
    "print(\"shape:\", output_data.shape)\n",
    "print(\"min:\", np.min(output_data))\n",
    "print(\"max:\", np.max(output_data))"
   ]
  },
  {
   "cell_type": "markdown",
   "id": "04e9d7e2-d651-44dc-9f4f-1926288e3269",
   "metadata": {},
   "source": [
    "## Building models with the Keras Functional API"
   ]
  },
  {
   "cell_type": "code",
   "execution_count": 6,
   "id": "38dd029e-dfbf-42af-a282-9e48aee81ba5",
   "metadata": {
    "tags": []
   },
   "outputs": [],
   "source": [
    "dense = keras.layers.Dense(units=16)"
   ]
  },
  {
   "cell_type": "code",
   "execution_count": 7,
   "id": "20a0b634-23db-4a35-983f-895b03590841",
   "metadata": {
    "tags": []
   },
   "outputs": [],
   "source": [
    "inputs = keras.Input(shape=(None, None, 3))"
   ]
  },
  {
   "cell_type": "code",
   "execution_count": 8,
   "id": "ec14c838-dcdc-4362-9d94-5f0a182bc96e",
   "metadata": {
    "tags": []
   },
   "outputs": [],
   "source": [
    "from tensorflow.keras import layers\n",
    "\n",
    "x = CenterCrop(height=150, width=150)(inputs)\n",
    "\n",
    "x = Rescaling(scale=1.0 / 255)(x)\n",
    "\n",
    "x = layers.Conv2D(filters=32, kernel_size=(3, 3), activation=\"relu\")(x)\n",
    "x = layers.MaxPooling2D(pool_size=(3, 3))(x)\n",
    "x = layers.Conv2D(filters=32, kernel_size=(3, 3), activation=\"relu\")(x)\n",
    "x = layers.MaxPooling2D(pool_size=(3, 3))(x)\n",
    "x = layers.Conv2D(filters=32, kernel_size=(3, 3), activation=\"relu\")(x)\n",
    "\n",
    "x = layers.GlobalAveragePooling2D()(x)\n",
    "\n",
    "num_classes = 10\n",
    "outputs = layers.Dense(num_classes, activation=\"softmax\")(x)"
   ]
  },
  {
   "cell_type": "code",
   "execution_count": 9,
   "id": "a0079f74-b6b4-4fe7-ace3-2518d59102d6",
   "metadata": {
    "tags": []
   },
   "outputs": [],
   "source": [
    "model = keras.Model(inputs=inputs, outputs=outputs)"
   ]
  },
  {
   "cell_type": "code",
   "execution_count": 10,
   "id": "e6d77f42-9299-4387-83ce-9e653e4dce43",
   "metadata": {
    "tags": []
   },
   "outputs": [
    {
     "name": "stdout",
     "output_type": "stream",
     "text": [
      "(64, 10)\n"
     ]
    }
   ],
   "source": [
    "data = np.random.randint(0, 256, size=(64, 200, 200, 3)).astype(\"float32\")\n",
    "processed_data = model(data)\n",
    "print(processed_data.shape)"
   ]
  },
  {
   "cell_type": "code",
   "execution_count": 11,
   "id": "74b57dcd-b808-4706-89f5-0340b3670aca",
   "metadata": {
    "tags": []
   },
   "outputs": [
    {
     "name": "stdout",
     "output_type": "stream",
     "text": [
      "Model: \"model\"\n",
      "_________________________________________________________________\n",
      " Layer (type)                Output Shape              Param #   \n",
      "=================================================================\n",
      " input_1 (InputLayer)        [(None, None, None, 3)]   0         \n",
      "                                                                 \n",
      " center_crop_1 (CenterCrop)  (None, 150, 150, 3)       0         \n",
      "                                                                 \n",
      " rescaling_1 (Rescaling)     (None, 150, 150, 3)       0         \n",
      "                                                                 \n",
      " conv2d (Conv2D)             (None, 148, 148, 32)      896       \n",
      "                                                                 \n",
      " max_pooling2d (MaxPooling2  (None, 49, 49, 32)        0         \n",
      " D)                                                              \n",
      "                                                                 \n",
      " conv2d_1 (Conv2D)           (None, 47, 47, 32)        9248      \n",
      "                                                                 \n",
      " max_pooling2d_1 (MaxPoolin  (None, 15, 15, 32)        0         \n",
      " g2D)                                                            \n",
      "                                                                 \n",
      " conv2d_2 (Conv2D)           (None, 13, 13, 32)        9248      \n",
      "                                                                 \n",
      " global_average_pooling2d (  (None, 32)                0         \n",
      " GlobalAveragePooling2D)                                         \n",
      "                                                                 \n",
      " dense_1 (Dense)             (None, 10)                330       \n",
      "                                                                 \n",
      "=================================================================\n",
      "Total params: 19722 (77.04 KB)\n",
      "Trainable params: 19722 (77.04 KB)\n",
      "Non-trainable params: 0 (0.00 Byte)\n",
      "_________________________________________________________________\n"
     ]
    }
   ],
   "source": [
    "model.summary()"
   ]
  },
  {
   "cell_type": "markdown",
   "id": "ae5800fa-cce8-4166-b06d-33c6541a96d1",
   "metadata": {},
   "source": [
    "## Training models with fit()"
   ]
  },
  {
   "cell_type": "code",
   "execution_count": 12,
   "id": "28f07b44-766a-47fa-846e-9e4a9ad3de9c",
   "metadata": {
    "tags": []
   },
   "outputs": [],
   "source": [
    "model.compile(optimizer=keras.optimizers.RMSprop(learning_rate=1e-3),\n",
    "              loss=keras.losses.CategoricalCrossentropy())"
   ]
  },
  {
   "cell_type": "code",
   "execution_count": 13,
   "id": "06f8d687-1c7d-42aa-bd02-94bb5b7bc74e",
   "metadata": {
    "tags": []
   },
   "outputs": [],
   "source": [
    "model.compile(optimizer='rmsprop', loss='categorical_crossentropy')"
   ]
  },
  {
   "cell_type": "code",
   "execution_count": 14,
   "id": "9067bd36-d677-4b95-b44e-df7aed07cf9c",
   "metadata": {
    "tags": []
   },
   "outputs": [],
   "source": [
    "#model.fit(numpy_array_of_samples, numpy_array_of_labels,\n",
    "#          batch_size=32, epochs=10)"
   ]
  },
  {
   "cell_type": "code",
   "execution_count": 15,
   "id": "6be35d1d-4894-4aea-a370-964e15b0b6b4",
   "metadata": {
    "tags": []
   },
   "outputs": [
    {
     "name": "stdout",
     "output_type": "stream",
     "text": [
      "Model: \"model_1\"\n",
      "_________________________________________________________________\n",
      " Layer (type)                Output Shape              Param #   \n",
      "=================================================================\n",
      " input_2 (InputLayer)        [(None, 28, 28)]          0         \n",
      "                                                                 \n",
      " rescaling_2 (Rescaling)     (None, 28, 28)            0         \n",
      "                                                                 \n",
      " flatten (Flatten)           (None, 784)               0         \n",
      "                                                                 \n",
      " dense_2 (Dense)             (None, 128)               100480    \n",
      "                                                                 \n",
      " dense_3 (Dense)             (None, 128)               16512     \n",
      "                                                                 \n",
      " dense_4 (Dense)             (None, 10)                1290      \n",
      "                                                                 \n",
      "=================================================================\n",
      "Total params: 118282 (462.04 KB)\n",
      "Trainable params: 118282 (462.04 KB)\n",
      "Non-trainable params: 0 (0.00 Byte)\n",
      "_________________________________________________________________\n",
      "Fit on NumPy data\n",
      "938/938 [==============================] - 3s 2ms/step - loss: 0.2692\n"
     ]
    }
   ],
   "source": [
    "# Get the data as Numpy arrays\n",
    "(x_train, y_train), (x_test, y_test) = keras.datasets.mnist.load_data()\n",
    "\n",
    "# Build a simple model\n",
    "inputs = keras.Input(shape=(28, 28))\n",
    "x = layers.Rescaling(1.0 / 255)(inputs)\n",
    "x = layers.Flatten()(x)\n",
    "x = layers.Dense(128, activation=\"relu\")(x)\n",
    "x = layers.Dense(128, activation=\"relu\")(x)\n",
    "outputs = layers.Dense(10, activation=\"softmax\")(x)\n",
    "model = keras.Model(inputs, outputs)\n",
    "model.summary()\n",
    "\n",
    "# Compile the model\n",
    "model.compile(optimizer=\"adam\", loss=\"sparse_categorical_crossentropy\")\n",
    "\n",
    "# Train the model for 1 epoch from Numpy data\n",
    "batch_size = 64\n",
    "print(\"Fit on NumPy data\")\n",
    "history = model.fit(x_train, y_train, batch_size=batch_size, epochs=1)\n"
   ]
  },
  {
   "cell_type": "code",
   "execution_count": 16,
   "id": "acde12f6-6287-47c9-83d9-8b47cf8c5298",
   "metadata": {
    "tags": []
   },
   "outputs": [
    {
     "name": "stdout",
     "output_type": "stream",
     "text": [
      "{'loss': [0.2691708207130432]}\n"
     ]
    }
   ],
   "source": [
    "print(history.history)"
   ]
  },
  {
   "cell_type": "markdown",
   "id": "488ec140-54a9-4064-9310-d1f97f08bd18",
   "metadata": {
    "tags": []
   },
   "source": [
    "### Keeping track of performance metrics"
   ]
  },
  {
   "cell_type": "markdown",
   "id": "5e67ad2e-cdc6-423a-a063-825208add513",
   "metadata": {
    "tags": []
   },
   "source": [
    "#### Monitoring Metrics"
   ]
  },
  {
   "cell_type": "code",
   "execution_count": 17,
   "id": "c3a5923b-b4db-460b-94de-719481c363c9",
   "metadata": {
    "tags": []
   },
   "outputs": [
    {
     "name": "stdout",
     "output_type": "stream",
     "text": [
      "1875/1875 [==============================] - 5s 2ms/step - loss: 0.1190 - acc: 0.9641\n"
     ]
    }
   ],
   "source": [
    "#dataset = \n",
    "model.compile(\n",
    "    optimizer=\"adam\",\n",
    "    loss=\"sparse_categorical_crossentropy\",\n",
    "    metrics=[keras.metrics.SparseCategoricalAccuracy(name=\"acc\")],\n",
    ")\n",
    "history = model.fit(x_train, y_train, epochs=1)"
   ]
  },
  {
   "cell_type": "markdown",
   "id": "1917f182-3a94-4687-b72a-d45e11496952",
   "metadata": {},
   "source": [
    "#### Passing validation data to fit()"
   ]
  },
  {
   "cell_type": "code",
   "execution_count": 18,
   "id": "8a5024fe-9583-4765-83ab-618d30fb02f9",
   "metadata": {
    "tags": []
   },
   "outputs": [
    {
     "name": "stdout",
     "output_type": "stream",
     "text": [
      "1875/1875 [==============================] - 5s 2ms/step - loss: 0.0757 - acc: 0.9760 - val_loss: 0.0796 - val_acc: 0.9752\n"
     ]
    }
   ],
   "source": [
    "val_dataset = tf.data.Dataset.from_tensor_slices((x_test, y_test)).batch(batch_size)\n",
    "\n",
    "history = model.fit(x_train, y_train, epochs=1, validation_data=val_dataset)"
   ]
  },
  {
   "cell_type": "markdown",
   "id": "f4494316-716a-4785-b53f-3f4bbaa58dca",
   "metadata": {
    "tags": []
   },
   "source": [
    "#### Using callbacks for checkpointing (and more)"
   ]
  },
  {
   "cell_type": "code",
   "execution_count": 19,
   "id": "4034f033-acb8-41dd-8db1-5e361e25fd5b",
   "metadata": {
    "tags": []
   },
   "outputs": [
    {
     "name": "stdout",
     "output_type": "stream",
     "text": [
      "Epoch 1/2\n",
      "1855/1875 [============================>.] - ETA: 0s - loss: 0.0585 - acc: 0.9812INFO:tensorflow:Assets written to: ./models\\model_1\\assets\n"
     ]
    },
    {
     "name": "stderr",
     "output_type": "stream",
     "text": [
      "INFO:tensorflow:Assets written to: ./models\\model_1\\assets\n"
     ]
    },
    {
     "name": "stdout",
     "output_type": "stream",
     "text": [
      "1875/1875 [==============================] - 5s 3ms/step - loss: 0.0586 - acc: 0.9812\n",
      "Epoch 2/2\n",
      "1868/1875 [============================>.] - ETA: 0s - loss: 0.0449 - acc: 0.9852INFO:tensorflow:Assets written to: ./models\\model_2\\assets\n"
     ]
    },
    {
     "name": "stderr",
     "output_type": "stream",
     "text": [
      "INFO:tensorflow:Assets written to: ./models\\model_2\\assets\n"
     ]
    },
    {
     "name": "stdout",
     "output_type": "stream",
     "text": [
      "1875/1875 [==============================] - 5s 3ms/step - loss: 0.0450 - acc: 0.9851\n"
     ]
    },
    {
     "data": {
      "text/plain": [
       "<keras.src.callbacks.History at 0x2138c17dad0>"
      ]
     },
     "execution_count": 19,
     "metadata": {},
     "output_type": "execute_result"
    }
   ],
   "source": [
    "callbacks = [\n",
    "    keras.callbacks.ModelCheckpoint(\n",
    "        filepath='./models/model_{epoch}',\n",
    "        save_freq='epoch')\n",
    "]\n",
    "model.fit(x_train, y_train, epochs=2, callbacks=callbacks)"
   ]
  },
  {
   "cell_type": "markdown",
   "id": "5cd39017-9995-4b7d-920d-7e51b04976d0",
   "metadata": {},
   "source": [
    "#### Monitoring training progress with TensorBoard"
   ]
  },
  {
   "cell_type": "code",
   "execution_count": 20,
   "id": "0efaf6f9-546c-4863-b8b3-33b94677340a",
   "metadata": {
    "tags": []
   },
   "outputs": [
    {
     "name": "stdout",
     "output_type": "stream",
     "text": [
      "Epoch 1/2\n",
      "1875/1875 [==============================] - 5s 3ms/step - loss: 0.0361 - acc: 0.9876\n",
      "Epoch 2/2\n",
      "1875/1875 [==============================] - 5s 3ms/step - loss: 0.0299 - acc: 0.9904\n"
     ]
    },
    {
     "data": {
      "text/plain": [
       "<keras.src.callbacks.History at 0x213a0855390>"
      ]
     },
     "execution_count": 20,
     "metadata": {},
     "output_type": "execute_result"
    }
   ],
   "source": [
    "callbacks = [\n",
    "    keras.callbacks.TensorBoard(log_dir='./logs')\n",
    "]\n",
    "model.fit(x_train, y_train, epochs=2, callbacks=callbacks)"
   ]
  },
  {
   "cell_type": "markdown",
   "id": "0f0743d8-0e41-4033-8cca-583c3907ccc9",
   "metadata": {},
   "source": [
    "#### After fit(): evaluating test performance & generating predictions on new data"
   ]
  },
  {
   "cell_type": "code",
   "execution_count": 21,
   "id": "917ab421-c5c0-4c45-ad78-4edffa177e9f",
   "metadata": {
    "tags": []
   },
   "outputs": [
    {
     "name": "stdout",
     "output_type": "stream",
     "text": [
      "157/157 [==============================] - 0s 2ms/step - loss: 0.0885 - acc: 0.9732\n",
      "loss: 0.09\n",
      "acc: 0.97\n"
     ]
    }
   ],
   "source": [
    "loss, acc = model.evaluate(val_dataset)  # returns loss and metrics\n",
    "print(\"loss: %.2f\" % loss)\n",
    "print(\"acc: %.2f\" % acc)"
   ]
  },
  {
   "cell_type": "markdown",
   "id": "0fba92d1-38b3-4333-8fd4-486f0ee1168c",
   "metadata": {},
   "source": [
    "##### generate NumPy arrays of predictions"
   ]
  },
  {
   "cell_type": "code",
   "execution_count": 22,
   "id": "4bd66f95-da9c-4a6a-9311-44ccb7dbe610",
   "metadata": {
    "tags": []
   },
   "outputs": [
    {
     "name": "stdout",
     "output_type": "stream",
     "text": [
      "157/157 [==============================] - 0s 2ms/step\n",
      "(10000, 10)\n"
     ]
    }
   ],
   "source": [
    "predictions = model.predict(val_dataset)\n",
    "print(predictions.shape)"
   ]
  },
  {
   "cell_type": "markdown",
   "id": "4c06b2ab-185c-41c3-a633-58c697f111e4",
   "metadata": {
    "tags": []
   },
   "source": [
    "## Finding the best model configuration with hyperparameter tuning"
   ]
  },
  {
   "cell_type": "code",
   "execution_count": 23,
   "id": "c6a07638-228d-410e-8919-2ec723fdc676",
   "metadata": {
    "tags": []
   },
   "outputs": [],
   "source": [
    "def build_model(hp):\n",
    "    inputs = keras.Input(shape=(784,))\n",
    "    x = layers.Dense(\n",
    "        units=hp.Int('units', min_value=32, max_value=512, step=32),\n",
    "        activation='relu')(inputs)\n",
    "    outputs = layers.Dense(10, activation='softmax')(x)\n",
    "    model = keras.Model(inputs, outputs)\n",
    "    model.compile(\n",
    "        optimizer=keras.optimizers.Adam(\n",
    "            hp.Choice('learning_rate',\n",
    "                      values=[1e-2, 1e-3, 1e-4])),\n",
    "        loss='sparse_categorical_crossentropy',\n",
    "        metrics=['accuracy'])\n",
    "    return model"
   ]
  },
  {
   "cell_type": "code",
   "execution_count": 24,
   "id": "e17028b1-ac8c-4449-bbcd-333e4d74f4e4",
   "metadata": {
    "tags": []
   },
   "outputs": [
    {
     "name": "stdout",
     "output_type": "stream",
     "text": [
      "Using TensorFlow backend\n",
      "Reloading Tuner from ./tuners\\untitled_project\\tuner0.json\n"
     ]
    }
   ],
   "source": [
    "import keras_tuner\n",
    "\n",
    "tuner = keras_tuner.tuners.Hyperband(\n",
    "    build_model,\n",
    "    objective='val_loss',\n",
    "    max_epochs=100,\n",
    "    #max_trials=200,\n",
    "    executions_per_trial=2,\n",
    "    directory='./tuners')"
   ]
  },
  {
   "cell_type": "code",
   "execution_count": 25,
   "id": "25710d40-1a34-41a5-8a88-914f70b40869",
   "metadata": {
    "tags": []
   },
   "outputs": [],
   "source": [
    "#tuner.search(inputs, outputs, validation_data=val_dataset)"
   ]
  },
  {
   "cell_type": "code",
   "execution_count": 26,
   "id": "42e745e1-92e1-4a6c-8ed6-8690846ed8f4",
   "metadata": {
    "tags": []
   },
   "outputs": [],
   "source": [
    "#models = tuner.get_best_models(num_models=2)"
   ]
  },
  {
   "cell_type": "code",
   "execution_count": 27,
   "id": "6d860af4-360c-44d6-ba26-8a55469df79b",
   "metadata": {
    "tags": []
   },
   "outputs": [],
   "source": [
    "#tuner.results_summary()"
   ]
  },
  {
   "cell_type": "code",
   "execution_count": null,
   "id": "758c2fb9-c0b5-41b3-ab85-e214a5ce3f47",
   "metadata": {},
   "outputs": [],
   "source": []
  }
 ],
 "metadata": {
  "kernelspec": {
   "display_name": "Python 3 (ipykernel)",
   "language": "python",
   "name": "python3"
  },
  "language_info": {
   "codemirror_mode": {
    "name": "ipython",
    "version": 3
   },
   "file_extension": ".py",
   "mimetype": "text/x-python",
   "name": "python",
   "nbconvert_exporter": "python",
   "pygments_lexer": "ipython3",
   "version": "3.11.3"
  }
 },
 "nbformat": 4,
 "nbformat_minor": 5
}
