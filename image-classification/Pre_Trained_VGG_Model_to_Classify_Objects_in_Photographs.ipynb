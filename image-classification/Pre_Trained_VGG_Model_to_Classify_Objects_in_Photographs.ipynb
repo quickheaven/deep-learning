{
  "nbformat": 4,
  "nbformat_minor": 0,
  "metadata": {
    "colab": {
      "provenance": [],
      "gpuType": "T4"
    },
    "kernelspec": {
      "name": "python3",
      "display_name": "Python 3"
    },
    "language_info": {
      "name": "python"
    },
    "accelerator": "GPU"
  },
  "cells": [
    {
      "cell_type": "markdown",
      "source": [
        "# Pre-Trained VGG Model to Classify Objects in Photographs\n",
        "https://machinelearningmastery.com/use-pre-trained-vgg-model-classify-objects-photographs/"
      ],
      "metadata": {
        "id": "TO1DC-lcRv3o"
      }
    },
    {
      "cell_type": "markdown",
      "source": [],
      "metadata": {
        "id": "3uLbpSRjRvJZ"
      }
    },
    {
      "cell_type": "code",
      "source": [
        "from keras.preprocessing.image import load_img\n",
        "from keras.preprocessing.image import img_to_array\n",
        "from keras.applications.vgg16 import preprocess_input\n",
        "from keras.applications.vgg16 import decode_predictions\n",
        "from keras.applications.vgg16 import VGG16"
      ],
      "metadata": {
        "id": "gVjxz-4dR9OF"
      },
      "execution_count": 1,
      "outputs": []
    },
    {
      "cell_type": "code",
      "source": [
        "from google.colab import drive\n",
        "drive.mount('/content/drive')"
      ],
      "metadata": {
        "colab": {
          "base_uri": "https://localhost:8080/"
        },
        "id": "R_NTW-nRUA42",
        "outputId": "de1db242-dda3-4391-dd18-2425d52d807c"
      },
      "execution_count": 2,
      "outputs": [
        {
          "output_type": "stream",
          "name": "stdout",
          "text": [
            "Mounted at /content/drive\n"
          ]
        }
      ]
    },
    {
      "cell_type": "code",
      "source": [
        "COLAB_HOME = \"/content/drive/MyDrive/Colab Notebooks/\"\n",
        "PROJECT_PATH = COLAB_HOME + '/python-deep-learning-research/'"
      ],
      "metadata": {
        "id": "AmUFOBRbUIC-"
      },
      "execution_count": 3,
      "outputs": []
    },
    {
      "cell_type": "markdown",
      "source": [
        "## Load the VGG Model"
      ],
      "metadata": {
        "id": "PiMYtY-UWKV4"
      }
    },
    {
      "cell_type": "code",
      "source": [
        "# load the model\n",
        "model = VGG16()"
      ],
      "metadata": {
        "colab": {
          "base_uri": "https://localhost:8080/"
        },
        "id": "zpLaraaITGoI",
        "outputId": "f589ea36-40cb-4239-e8ba-9f8b3f00a550"
      },
      "execution_count": 4,
      "outputs": [
        {
          "output_type": "stream",
          "name": "stdout",
          "text": [
            "Downloading data from https://storage.googleapis.com/tensorflow/keras-applications/vgg16/vgg16_weights_tf_dim_ordering_tf_kernels.h5\n",
            "553467096/553467096 [==============================] - 25s 0us/step\n"
          ]
        }
      ]
    },
    {
      "cell_type": "markdown",
      "source": [
        "## Load and Prepare Image"
      ],
      "metadata": {
        "id": "Fqz1wAXJWM8Q"
      }
    },
    {
      "cell_type": "code",
      "source": [
        "# load an image from file\n",
        "image = load_img(PROJECT_PATH + 'mug.jpg', target_size=(224, 224))"
      ],
      "metadata": {
        "id": "UTK3jYL7TL9Q"
      },
      "execution_count": 5,
      "outputs": []
    },
    {
      "cell_type": "code",
      "source": [
        "# convert the image pixels to a numpy array\n",
        "image = img_to_array(image)"
      ],
      "metadata": {
        "id": "fs77DEHgTiqt"
      },
      "execution_count": 6,
      "outputs": []
    },
    {
      "cell_type": "code",
      "source": [
        "# reshape the data for the model\n",
        "image = image.reshape((1, image.shape[0], image.shape[1], image.shape[2]))"
      ],
      "metadata": {
        "id": "XkKcRUWiUlGk"
      },
      "execution_count": 7,
      "outputs": []
    },
    {
      "cell_type": "code",
      "source": [
        "# pre the image for the VGG model\n",
        "image = preprocess_input(image)"
      ],
      "metadata": {
        "id": "6srPZ5m5UuW3"
      },
      "execution_count": 8,
      "outputs": []
    },
    {
      "cell_type": "markdown",
      "source": [
        "## Make Prediction"
      ],
      "metadata": {
        "id": "Bl6tmnHqWP5q"
      }
    },
    {
      "cell_type": "code",
      "source": [
        "# predict the probability across all output classes\n",
        "yhat = model.predict(image)"
      ],
      "metadata": {
        "colab": {
          "base_uri": "https://localhost:8080/"
        },
        "id": "hb6zckH4U86p",
        "outputId": "e6d47685-99a2-4a18-ac52-0ab2c296f7d4"
      },
      "execution_count": 9,
      "outputs": [
        {
          "output_type": "stream",
          "name": "stdout",
          "text": [
            "1/1 [==============================] - 7s 7s/step\n"
          ]
        }
      ]
    },
    {
      "cell_type": "markdown",
      "source": [
        "## Interpret Prediction"
      ],
      "metadata": {
        "id": "NGrQUYPpWVEu"
      }
    },
    {
      "cell_type": "code",
      "source": [
        "# convert the probabilities to class labels\n",
        "label = decode_predictions(yhat)"
      ],
      "metadata": {
        "colab": {
          "base_uri": "https://localhost:8080/"
        },
        "id": "JPENYf-3UzgP",
        "outputId": "c5e28c34-8eb3-4102-e1c6-23400ecad608"
      },
      "execution_count": 10,
      "outputs": [
        {
          "output_type": "stream",
          "name": "stdout",
          "text": [
            "Downloading data from https://storage.googleapis.com/download.tensorflow.org/data/imagenet_class_index.json\n",
            "35363/35363 [==============================] - 0s 0us/step\n"
          ]
        }
      ]
    },
    {
      "cell_type": "code",
      "source": [
        "# retrieve the most likely result, e.g. highest probability\n",
        "label = label[0][0]"
      ],
      "metadata": {
        "id": "d89qfFdkU6lO"
      },
      "execution_count": 11,
      "outputs": []
    },
    {
      "cell_type": "code",
      "source": [
        "# print the classification\n",
        "print('%s (%.3f%%)' % (label[1], label[2]*100))"
      ],
      "metadata": {
        "colab": {
          "base_uri": "https://localhost:8080/"
        },
        "id": "P7hWPeblVVw3",
        "outputId": "9a1c5f59-4307-447d-c5cd-d177b7c3eb66"
      },
      "execution_count": 12,
      "outputs": [
        {
          "output_type": "stream",
          "name": "stdout",
          "text": [
            "coffee_mug (76.400%)\n"
          ]
        }
      ]
    },
    {
      "cell_type": "code",
      "source": [],
      "metadata": {
        "id": "XpdPz3c2Vg7H"
      },
      "execution_count": 12,
      "outputs": []
    }
  ]
}