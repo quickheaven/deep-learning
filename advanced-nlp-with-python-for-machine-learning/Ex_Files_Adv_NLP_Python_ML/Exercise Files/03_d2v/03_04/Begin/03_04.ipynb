{
 "cells": [
  {
   "cell_type": "markdown",
   "metadata": {},
   "source": [
    "# doc2vec: How To Prep Document Vectors For Modeling"
   ]
  },
  {
   "cell_type": "markdown",
   "metadata": {},
   "source": [
    "### Train Our Own Model"
   ]
  },
  {
   "cell_type": "code",
   "execution_count": 1,
   "metadata": {
    "tags": []
   },
   "outputs": [],
   "source": [
    "# Read in data, clean it, split it into train/test, and then train a doc2vec model\n",
    "import gensim\n",
    "import pandas as pd\n",
    "from sklearn.model_selection import train_test_split\n",
    "pd.set_option('display.max_colwidth', 100)\n",
    "\n",
    "messages = pd.read_csv('../../../data/spam.csv', encoding='latin-1')\n",
    "messages = messages.drop(labels = [\"Unnamed: 2\", \"Unnamed: 3\", \"Unnamed: 4\"], axis = 1)\n",
    "messages.columns = [\"label\", \"text\"]\n",
    "messages['text_clean'] = messages['text'].apply(lambda x: gensim.utils.simple_preprocess(x))\n",
    "\n",
    "X_train, X_test, y_train, y_test = train_test_split(messages['text_clean'],\n",
    "                                                    messages['label'], test_size=0.2)\n",
    "\n",
    "tagged_docs_tr = [gensim.models.doc2vec.TaggedDocument(v, [i]) for i, v in enumerate(X_train)]\n",
    "\n",
    "d2v_model = gensim.models.Doc2Vec(tagged_docs_tr,\n",
    "                                  vector_size=50,\n",
    "                                  window=2,\n",
    "                                  min_count=2)"
   ]
  },
  {
   "cell_type": "code",
   "execution_count": 2,
   "metadata": {
    "tags": []
   },
   "outputs": [
    {
     "data": {
      "text/plain": [
       "array([-0.00739806,  0.00165458, -0.00150861, -0.00773483, -0.02790878,\n",
       "       -0.01511121,  0.0222737 ,  0.03848054, -0.05261557, -0.01161391,\n",
       "       -0.00318576, -0.03124923, -0.00375506,  0.00971579, -0.03144568,\n",
       "        0.01032083,  0.0382013 , -0.00318131, -0.05462611, -0.01633083,\n",
       "        0.0025901 ,  0.04156303,  0.04306922, -0.01284769,  0.03120297,\n",
       "        0.01705114, -0.01819364, -0.00258104, -0.0362054 ,  0.00922298,\n",
       "       -0.00082579,  0.00080232, -0.00349006,  0.01007308, -0.02338976,\n",
       "        0.02970285,  0.01009481, -0.03191788,  0.0139101 , -0.0246195 ,\n",
       "        0.04223936, -0.00383259, -0.00548349, -0.01305065,  0.06214913,\n",
       "       -0.00303055, -0.00685976, -0.04003947, -0.00515581,  0.03326047],\n",
       "      dtype=float32)"
      ]
     },
     "execution_count": 2,
     "metadata": {},
     "output_type": "execute_result"
    }
   ],
   "source": [
    "# What does a document vector look like again?\n",
    "d2v_model.infer_vector(['convert', 'words', 'to', 'vectors'])"
   ]
  },
  {
   "cell_type": "code",
   "execution_count": 3,
   "metadata": {
    "tags": []
   },
   "outputs": [],
   "source": [
    "# How do we prepare these vectors to be used in a machine learning model?\n",
    "vectors = [[d2v_model.infer_vector(words)] for words in X_test]"
   ]
  },
  {
   "cell_type": "code",
   "execution_count": 5,
   "metadata": {
    "tags": []
   },
   "outputs": [
    {
     "data": {
      "text/plain": [
       "[array([-0.01768446,  0.01641724, -0.01090905, -0.00636481, -0.02643312,\n",
       "        -0.02607715,  0.03581697,  0.04351528, -0.05665512, -0.00307401,\n",
       "         0.01616584, -0.04614643,  0.00436801,  0.00958501, -0.02233226,\n",
       "        -0.00813573,  0.03391833,  0.01426253, -0.07179873, -0.01346081,\n",
       "         0.00640096,  0.02258399,  0.03610693,  0.00018445,  0.03104434,\n",
       "         0.03037325, -0.01801386,  0.00025291, -0.03662705, -0.00346481,\n",
       "        -0.0038542 , -0.01011624,  0.00669984,  0.0142917 , -0.01732959,\n",
       "         0.03043679,  0.01168407, -0.0255115 ,  0.0144302 , -0.00934279,\n",
       "         0.03904137,  0.00501972, -0.00157982, -0.0123285 ,  0.05312673,\n",
       "         0.00292002,  0.00318076, -0.03016158, -0.00428823,  0.05006526],\n",
       "       dtype=float32)]"
      ]
     },
     "execution_count": 5,
     "metadata": {},
     "output_type": "execute_result"
    }
   ],
   "source": [
    "vectors[0]"
   ]
  },
  {
   "cell_type": "code",
   "execution_count": null,
   "metadata": {},
   "outputs": [],
   "source": []
  }
 ],
 "metadata": {
  "kernelspec": {
   "display_name": "Python 3 (ipykernel)",
   "language": "python",
   "name": "python3"
  },
  "language_info": {
   "codemirror_mode": {
    "name": "ipython",
    "version": 3
   },
   "file_extension": ".py",
   "mimetype": "text/x-python",
   "name": "python",
   "nbconvert_exporter": "python",
   "pygments_lexer": "ipython3",
   "version": "3.11.3"
  }
 },
 "nbformat": 4,
 "nbformat_minor": 4
}
