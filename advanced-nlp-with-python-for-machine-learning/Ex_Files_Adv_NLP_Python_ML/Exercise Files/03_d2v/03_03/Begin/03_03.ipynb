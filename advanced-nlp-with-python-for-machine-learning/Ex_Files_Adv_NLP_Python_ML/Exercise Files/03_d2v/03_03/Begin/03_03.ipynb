{
 "cells": [
  {
   "cell_type": "markdown",
   "metadata": {},
   "source": [
    "# doc2vec: How To Implement doc2vec"
   ]
  },
  {
   "cell_type": "markdown",
   "metadata": {},
   "source": [
    "### Train Our Own Model"
   ]
  },
  {
   "cell_type": "code",
   "execution_count": 3,
   "metadata": {
    "tags": []
   },
   "outputs": [],
   "source": [
    "# Read in data, clean it, and then split into train and test sets\n",
    "import gensim\n",
    "import pandas as pd\n",
    "from sklearn.model_selection import train_test_split\n",
    "pd.set_option('display.max_colwidth', 100)\n",
    "\n",
    "messages = pd.read_csv('../../../data/spam.csv', encoding='latin-1')\n",
    "messages = messages.drop(labels = [\"Unnamed: 2\", \"Unnamed: 3\", \"Unnamed: 4\"], axis = 1)\n",
    "messages.columns = [\"label\", \"text\"]\n",
    "messages['text_clean'] = messages['text'].apply(lambda x: gensim.utils.simple_preprocess(x))\n",
    "\n",
    "X_train, X_test, y_train, y_test = train_test_split(messages['text_clean'],\n",
    "                                                    messages['label'], test_size=0.2)"
   ]
  },
  {
   "cell_type": "code",
   "execution_count": 5,
   "metadata": {
    "tags": []
   },
   "outputs": [],
   "source": [
    "# Create tagged document objects to prepare to train the model\n",
    "# tagged_docs = [v, i for i, v in enumerate(X_train)]\n",
    "tagged_docs = [gensim.models.doc2vec.TaggedDocument(v, [i]) for i, v in enumerate(X_train)]"
   ]
  },
  {
   "cell_type": "code",
   "execution_count": 6,
   "metadata": {
    "tags": []
   },
   "outputs": [
    {
     "data": {
      "text/plain": [
       "TaggedDocument(words=['ll', 'pick', 'you', 'up', 'at', 'about', 'pm', 'to', 'go', 'to', 'taunton', 'if', 'you', 'still', 'want', 'to', 'come'], tags=[0])"
      ]
     },
     "execution_count": 6,
     "metadata": {},
     "output_type": "execute_result"
    }
   ],
   "source": [
    "# Look at what a tagged document looks like\n",
    "tagged_docs[0]"
   ]
  },
  {
   "cell_type": "code",
   "execution_count": 8,
   "metadata": {
    "tags": []
   },
   "outputs": [],
   "source": [
    "# Train a basic doc2vec model\n",
    "d2v_model = gensim.models.Doc2Vec(tagged_docs,\n",
    "                                  vector_size=100,\n",
    "                                  window=5,\n",
    "                                  min_count=2\n",
    "                            )"
   ]
  },
  {
   "cell_type": "code",
   "execution_count": 10,
   "metadata": {
    "tags": []
   },
   "outputs": [
    {
     "ename": "TypeError",
     "evalue": "Parameter doc_words of infer_vector() must be a list of strings (not a single string).",
     "output_type": "error",
     "traceback": [
      "\u001b[1;31m---------------------------------------------------------------------------\u001b[0m",
      "\u001b[1;31mTypeError\u001b[0m                                 Traceback (most recent call last)",
      "Cell \u001b[1;32mIn[10], line 2\u001b[0m\n\u001b[0;32m      1\u001b[0m \u001b[38;5;66;03m# What happens if we pass in a single word like we did for word2vec?\u001b[39;00m\n\u001b[1;32m----> 2\u001b[0m d2v_model\u001b[38;5;241m.\u001b[39minfer_vector(\u001b[38;5;124m'\u001b[39m\u001b[38;5;124mtext\u001b[39m\u001b[38;5;124m'\u001b[39m)\n",
      "File \u001b[1;32mD:\\x-20a\\anaconda3\\Lib\\site-packages\\gensim\\models\\doc2vec.py:622\u001b[0m, in \u001b[0;36mDoc2Vec.infer_vector\u001b[1;34m(self, doc_words, alpha, min_alpha, epochs)\u001b[0m\n\u001b[0;32m    594\u001b[0m \u001b[38;5;250m\u001b[39m\u001b[38;5;124;03m\"\"\"Infer a vector for given post-bulk training document.\u001b[39;00m\n\u001b[0;32m    595\u001b[0m \n\u001b[0;32m    596\u001b[0m \u001b[38;5;124;03mNotes\u001b[39;00m\n\u001b[1;32m   (...)\u001b[0m\n\u001b[0;32m    619\u001b[0m \n\u001b[0;32m    620\u001b[0m \u001b[38;5;124;03m\"\"\"\u001b[39;00m\n\u001b[0;32m    621\u001b[0m \u001b[38;5;28;01mif\u001b[39;00m \u001b[38;5;28misinstance\u001b[39m(doc_words, \u001b[38;5;28mstr\u001b[39m):  \u001b[38;5;66;03m# a common mistake; fail with a nicer error\u001b[39;00m\n\u001b[1;32m--> 622\u001b[0m     \u001b[38;5;28;01mraise\u001b[39;00m \u001b[38;5;167;01mTypeError\u001b[39;00m(\u001b[38;5;124m\"\u001b[39m\u001b[38;5;124mParameter doc_words of infer_vector() must be a list of strings (not a single string).\u001b[39m\u001b[38;5;124m\"\u001b[39m)\n\u001b[0;32m    624\u001b[0m alpha \u001b[38;5;241m=\u001b[39m alpha \u001b[38;5;129;01mor\u001b[39;00m \u001b[38;5;28mself\u001b[39m\u001b[38;5;241m.\u001b[39malpha\n\u001b[0;32m    625\u001b[0m min_alpha \u001b[38;5;241m=\u001b[39m min_alpha \u001b[38;5;129;01mor\u001b[39;00m \u001b[38;5;28mself\u001b[39m\u001b[38;5;241m.\u001b[39mmin_alpha\n",
      "\u001b[1;31mTypeError\u001b[0m: Parameter doc_words of infer_vector() must be a list of strings (not a single string)."
     ]
    }
   ],
   "source": [
    "# What happens if we pass in a single word like we did for word2vec?\n",
    "d2v_model.infer_vector('text')"
   ]
  },
  {
   "cell_type": "code",
   "execution_count": 11,
   "metadata": {
    "tags": []
   },
   "outputs": [
    {
     "data": {
      "text/plain": [
       "array([ 2.55125901e-03,  1.18638361e-02,  9.61328112e-03,  2.11844430e-03,\n",
       "       -7.85729848e-03, -1.96640566e-02,  8.51910841e-03,  3.11424695e-02,\n",
       "       -1.43427067e-02, -1.96799412e-02, -1.37006759e-03, -2.21764240e-02,\n",
       "       -8.15948658e-03,  1.23746553e-02,  1.32412405e-03, -1.01742046e-02,\n",
       "        2.08183847e-05, -1.34120099e-02, -7.40417372e-03, -2.66675595e-02,\n",
       "        1.37395440e-02,  9.10776388e-03,  4.81781224e-03, -2.20786221e-02,\n",
       "       -1.43928418e-03,  2.50591012e-03, -1.01464866e-02, -7.01714121e-03,\n",
       "       -1.83200464e-02, -5.16230846e-03,  1.79592799e-02,  1.02383541e-02,\n",
       "        2.05909777e-02, -1.65945217e-02, -1.19528482e-02,  2.33237837e-02,\n",
       "        2.91534397e-03, -1.78704914e-02, -1.78031828e-02, -2.93328520e-02,\n",
       "        2.23389757e-03, -6.97192550e-03, -7.49399769e-04, -8.88905674e-03,\n",
       "        1.25945993e-02, -5.76909212e-03, -1.54217407e-02, -3.57724051e-03,\n",
       "        1.29239438e-02,  1.63594056e-02,  8.67526419e-03, -9.38259531e-03,\n",
       "       -8.72932188e-03, -8.40676948e-03, -6.59416476e-03,  6.07395126e-03,\n",
       "        9.41187423e-03,  5.71627403e-03, -1.73175950e-02,  6.27516024e-03,\n",
       "        4.23964066e-03, -9.73634305e-04,  1.09534049e-04, -4.55889339e-03,\n",
       "       -2.29678880e-02,  1.82944071e-02, -6.40020519e-03,  8.17971583e-03,\n",
       "       -2.55512167e-02,  1.97395235e-02, -1.12475650e-02,  1.01559004e-02,\n",
       "        1.40666235e-02, -9.74324066e-03,  2.59384271e-02,  3.76558542e-04,\n",
       "       -2.25601532e-03, -7.77538808e-04, -8.74790270e-03,  4.56549646e-03,\n",
       "       -1.84820183e-02,  7.83931743e-03, -1.51852136e-02,  3.32928784e-02,\n",
       "       -9.79617704e-03,  9.65904561e-04,  6.16829842e-03,  3.58790532e-03,\n",
       "        2.75485348e-02,  1.55567089e-02,  2.48707682e-02,  1.87381338e-02,\n",
       "       -4.85354365e-04,  2.86162249e-03,  2.70276498e-02,  1.37139037e-02,\n",
       "        1.05492561e-03, -2.04879567e-02, -3.20152659e-03, -8.37005582e-03],\n",
       "      dtype=float32)"
      ]
     },
     "execution_count": 11,
     "metadata": {},
     "output_type": "execute_result"
    }
   ],
   "source": [
    "# What happens if we pass in a list of words?\n",
    "d2v_model.infer_vector(['i', 'am', 'learning', 'nlp'])"
   ]
  },
  {
   "cell_type": "markdown",
   "metadata": {},
   "source": [
    "### What About Pre-trained Document Vectors?\n",
    "\n",
    "There are not as many options as there are for word vectors. There also is not an easy API to read these in like there is for `word2vec` so it is more time consuming.\n",
    "\n",
    "Pre-trained vectors from training on Wikipedia and Associated Press News can be found [here](https://github.com/jhlau/doc2vec). Feel free to explore on your own!"
   ]
  }
 ],
 "metadata": {
  "kernelspec": {
   "display_name": "Python 3 (ipykernel)",
   "language": "python",
   "name": "python3"
  },
  "language_info": {
   "codemirror_mode": {
    "name": "ipython",
    "version": 3
   },
   "file_extension": ".py",
   "mimetype": "text/x-python",
   "name": "python",
   "nbconvert_exporter": "python",
   "pygments_lexer": "ipython3",
   "version": "3.11.3"
  }
 },
 "nbformat": 4,
 "nbformat_minor": 4
}
