{
 "cells": [
  {
   "cell_type": "markdown",
   "metadata": {},
   "source": [
    "# Compare NLP Techniques: Build Model On doc2vec Vectors"
   ]
  },
  {
   "cell_type": "markdown",
   "metadata": {},
   "source": [
    "### Read In Cleaned Text"
   ]
  },
  {
   "cell_type": "code",
   "execution_count": 1,
   "metadata": {
    "tags": []
   },
   "outputs": [],
   "source": [
    "# Load the cleaned training and test sets\n",
    "import gensim\n",
    "import numpy as np\n",
    "import pandas as pd\n",
    "\n",
    "X_train = pd.read_csv('../../../data/X_train.csv')\n",
    "X_test = pd.read_csv('../../../data/X_test.csv')\n",
    "y_train = pd.read_csv('../../../data/y_train.csv')\n",
    "y_test = pd.read_csv('../../../data/y_test.csv')"
   ]
  },
  {
   "cell_type": "markdown",
   "metadata": {},
   "source": [
    "### Create doc2vec Vectors"
   ]
  },
  {
   "cell_type": "code",
   "execution_count": 2,
   "metadata": {
    "tags": []
   },
   "outputs": [],
   "source": [
    "# Created TaggedDocument vectors for each text message in the training and test sets\n",
    "tagged_docs_train = [gensim.models.doc2vec.TaggedDocument(v, [i])\n",
    "                     for i, v in enumerate(X_train['clean_text'])]\n",
    "tagged_docs_test = [gensim.models.doc2vec.TaggedDocument(v, [i])\n",
    "                    for i, v in enumerate(X_test['clean_text'])]"
   ]
  },
  {
   "cell_type": "code",
   "execution_count": 3,
   "metadata": {
    "tags": []
   },
   "outputs": [
    {
     "data": {
      "text/plain": [
       "[TaggedDocument(words=\"['ill', 'see', 'prolly', 'yeah']\", tags=[0]),\n",
       " TaggedDocument(words=\"['hi', 'darlin', 'ive', 'got', 'back', 'really', 'nice', 'night', 'thanks', 'much', 'lift', 'see', 'u', 'tomorrow', 'xxx']\", tags=[1]),\n",
       " TaggedDocument(words=\"['wait', '4', 'u', 'lor', 'need', '2', 'feel', 'bad', 'lar']\", tags=[2]),\n",
       " TaggedDocument(words=\"['dont', 'know', 'u', 'u', 'dont', 'know', 'send', 'chat', '86688', 'lets', 'find', '150pmsg', 'rcvd', 'hgsuite3422landsroww1j6hl', 'ldn', '18', 'years']\", tags=[3]),\n",
       " TaggedDocument(words=\"['dont', 'use', 'hook']\", tags=[4]),\n",
       " TaggedDocument(words=\"['feel', 'always', 'happy', 'slowly', 'becomes', 'habit', 'amp', 'finally', 'becomes', 'part', 'life', 'follow', 'happy', 'morning', 'amp', 'happy', 'day']\", tags=[5]),\n",
       " TaggedDocument(words=\"['ur', 'face', 'test', '1', '2', '3', '4', '5', '6', '7', '8', '9', 'ltgt', 'select', 'number', 'tell', 'ur', 'face', 'astrology', 'waiting', 'quick', 'reply']\", tags=[6]),\n",
       " TaggedDocument(words=\"['well', 'done', '4', 'costa', 'del', 'sol', 'holiday', 'å', '5000', 'await', 'collection', 'call', '09050090044', 'toclaim', 'sae', 'tcs', 'pobox334', 'stockport', 'sk38xh', 'costå', '150pm', 'max10mins']\", tags=[7]),\n",
       " TaggedDocument(words=\"['sry', 'cant', 'talk', 'phone', 'parents']\", tags=[8]),\n",
       " TaggedDocument(words=\"['cant', 'keep', 'talking', 'people', 'sure', 'pay', 'agree', 'price', 'pls', 'tell', 'want', 'really', 'buy', 'much', 'willing', 'pay']\", tags=[9])]"
      ]
     },
     "execution_count": 3,
     "metadata": {},
     "output_type": "execute_result"
    }
   ],
   "source": [
    "# What do these TaggedDocument objects look like?\n",
    "tagged_docs_train[:10]"
   ]
  },
  {
   "cell_type": "code",
   "execution_count": 4,
   "metadata": {
    "tags": []
   },
   "outputs": [],
   "source": [
    "# Train a basic doc2vec model\n",
    "d2v_model = gensim.models.Doc2Vec(tagged_docs_train,\n",
    "                                 vector_size=100,\n",
    "                                 window=5,\n",
    "                                 min_count=2)"
   ]
  },
  {
   "cell_type": "code",
   "execution_count": 5,
   "metadata": {
    "tags": []
   },
   "outputs": [],
   "source": [
    "# Infer the vectors to be used in training and testing\n",
    "train_vectors = [d2v_model.infer_vector(eval(v.words)) for v in tagged_docs_train]\n",
    "test_vectors = [d2v_model.infer_vector(eval(v.words)) for v in tagged_docs_test]  "
   ]
  },
  {
   "cell_type": "markdown",
   "metadata": {},
   "source": [
    "### Fit RandomForestClassifier On Top Of Document Vectors"
   ]
  },
  {
   "cell_type": "code",
   "execution_count": 6,
   "metadata": {
    "tags": []
   },
   "outputs": [
    {
     "name": "stdout",
     "output_type": "stream",
     "text": [
      "Precision: 0.887 / Recall: 0.39 / Accuracy: 0.917\n"
     ]
    }
   ],
   "source": [
    "# Fit a basic model, make predictions on the holdout test set, and the generate the evaluation metrics\n",
    "from sklearn.ensemble import RandomForestClassifier\n",
    "from sklearn.metrics import precision_score, recall_score\n",
    "\n",
    "rf = RandomForestClassifier()\n",
    "rf_model = rf.fit(train_vectors, y_train.values.ravel())\n",
    "\n",
    "y_pred = rf_model.predict(test_vectors)\n",
    "\n",
    "precision = precision_score(y_test, y_pred)\n",
    "recall = recall_score(y_test, y_pred)\n",
    "print('Precision: {} / Recall: {} / Accuracy: {}'.format(\n",
    "    round(precision, 3), round(recall, 3), round((y_pred==y_test['label']).sum()/len(y_pred), 3)))"
   ]
  },
  {
   "cell_type": "code",
   "execution_count": null,
   "metadata": {},
   "outputs": [],
   "source": []
  }
 ],
 "metadata": {
  "kernelspec": {
   "display_name": "Python 3 (ipykernel)",
   "language": "python",
   "name": "python3"
  },
  "language_info": {
   "codemirror_mode": {
    "name": "ipython",
    "version": 3
   },
   "file_extension": ".py",
   "mimetype": "text/x-python",
   "name": "python",
   "nbconvert_exporter": "python",
   "pygments_lexer": "ipython3",
   "version": "3.11.3"
  }
 },
 "nbformat": 4,
 "nbformat_minor": 4
}
